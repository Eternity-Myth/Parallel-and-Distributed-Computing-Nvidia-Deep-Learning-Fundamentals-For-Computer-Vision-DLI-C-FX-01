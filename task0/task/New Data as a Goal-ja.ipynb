{
 "cells": [
  {
   "cell_type": "markdown",
   "metadata": {},
   "source": [
    "この学習済みモデルは、新しいデータを正しく分類するという最終目標をまだ達成できていません。\n",
    "\n",
    "16 枚の犬の画像を AlexNet で 100 エポック 学習したこのモデルに、新しい Louie の画像を見せてテストしてみましょう。\n",
    "\n",
    "[DIGITS でモデルを開きます。](/digits/models/________)\n",
    "\n",
    "「Test a single image」 に以下のファイルパスをコピーします。\n",
    "\n",
    "<pre>/dli/data/BeagleImages/LouieTest1.jpg</pre>\n",
    "\n",
    "これは Louie の画像のパスですが、まったく新規の画像です。次に 「Classify One」 を選択します。\n",
    "\n",
    "![](images/louietestfail.PNG)"
   ]
  },
  {
   "cell_type": "markdown",
   "metadata": {},
   "source": [
    "これだけでは、ネットワークが単に表示された画像を記憶して終わりです。\n",
    "実際に役に立つようにするには、ネットワークが古い画像、新しい画像、左向き、右向き、若いころの Louie、年取った Louie、ゴミ箱にはまっている Louie など、どんな状態の Louie も認識できる必要があります。\n",
    "ネットワークを学習させる目的は、どのラベル付き画像に Louie が含まれているかを覚えさせることではなく、Louie という *概念* を理解させることです。\n",
    "これがうまくできないことを「過剰適合 (overfitting)」と呼びます。"
   ]
  },
  {
   "cell_type": "markdown",
   "metadata": {},
   "source": [
    "次のセクションでは、学習後ではなく学習中に、過剰適合を検証 (および一般的にパフォーマンスを評価) する方法と、その対処方法を学びます。"
   ]
  },
  {
   "cell_type": "markdown",
   "metadata": {},
   "source": [
    "まず、学習に使用したツール、NVIDIA DIGITS でデータセットを読み込む方法を紹介します。\n",
    "画面の左上隅にある \"DIGITS\" という文字を選択すると、DIGITS のホームページにアクセスできます。\n",
    "次に \"Datasets\" タブを選択します。\n",
    "既に「Beagle Images」という名前のデータセットが読み込まれているのがわかります。\n",
    "ここでは同じデータを使用するため、このデータセットを選択し、青い \"Clone Dataset\" ボタンを選択して、このデータセットの「クローン」を作成します。\n",
    "\n",
    "1 つだけ設定を変更します。\n",
    "\"Validation set\" の隣の \"25%\" を選択します。\n",
    "これにより、各カテゴリの 25% が別個のデータセットとして分離されます。\n",
    "このデータセットを「検証」データセットと呼び、残りの 75% を「学習」データセットと呼びます。"
   ]
  },
  {
   "cell_type": "markdown",
   "metadata": {},
   "source": [
    "## 学習と検証\n",
    "\n",
    "*検証* データは、ネットワークの学習には使用しません。\n",
    "ネットワークに *検証セット* の画像を 1 枚見せるたびに、ネットワークは新規の画像として認識します。\n",
    "つまり、検証セットを常に *新しいデータ* として利用できるというメリットがあります。\n",
    "モデルを学習させてみるとわかります。\n",
    "早速やってみましょう。\n",
    "\n",
    "左上の \"DIGITS\" ボタンを選択して、DIGITS のホーム画面に戻ります。\n",
    "前回の状態にほとんど変更を加えずに、モデルを学習します。\n",
    "\"New Mode\" と \"Classification\" を選択します。\n",
    "\n",
    "試してみましょう: 新しいデータセットを使用し、Alexnet を 50 エポック学習させます。"
   ]
  }
 ],
 "metadata": {
  "kernelspec": {
   "display_name": "Python 3",
   "language": "python",
   "name": "python3"
  },
  "language_info": {
   "codemirror_mode": {
    "name": "ipython",
    "version": 3
   },
   "file_extension": ".py",
   "mimetype": "text/x-python",
   "name": "python",
   "nbconvert_exporter": "python",
   "pygments_lexer": "ipython3",
   "version": "3.5.2"
  }
 },
 "nbformat": 4,
 "nbformat_minor": 2
}
