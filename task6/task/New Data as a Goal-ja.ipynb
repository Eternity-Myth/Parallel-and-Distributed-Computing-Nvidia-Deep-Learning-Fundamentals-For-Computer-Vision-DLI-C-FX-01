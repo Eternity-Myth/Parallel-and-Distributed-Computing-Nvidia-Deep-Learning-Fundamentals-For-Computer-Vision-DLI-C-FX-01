{
 "cells": [
  {
   "cell_type": "markdown",
   "metadata": {},
   "source": [
    "We'll start by identifying how the model we've already trained falls short of our actual goal of correctly classifying *new* data.\n",
    "\n",
    "Let's test the model you just trained (16 images of dogs through AlexNet for 100 epochs) on an image of Louie that it hasn't yet seen.\n",
    "\n",
    "[Open your model in DIGITS here](/digits/models/________)\n",
    "\n",
    "Under \"Test a single image,\" copy the filepath <pre>/dli/data/BeagleImages/LouieTest1.jpg</pre> for an image that is definately Louie, but that our network hasn't yet seen. Then select, \"Classify One.\"\n",
    "\n",
    "![](images/louietestfail.PNG)"
   ]
  },
  {
   "cell_type": "markdown",
   "metadata": {},
   "source": [
    "This shows that our network has simply memorized the images we have shown it. To be useful in the world, our network should be able to recognize Louie in all of his forms: old images, new images, images of Louie from the left, from the right, young, old, after he's gotten into the trash, etc. We're working to train our network to understand the *idea* of Louie, not memorize which labeled images had Louie in them. We call this failure \"overfitting.\" "
   ]
  },
  {
   "cell_type": "markdown",
   "metadata": {},
   "source": [
    "In this next section, we'll learn to test for overfitting (and generally assess performance) during training, instead of after. Next, we'll learn what to do about it. "
   ]
  },
  {
   "cell_type": "markdown",
   "metadata": {},
   "source": [
    "The first new skill we will learn is how to load a dataset using the same tool used for training, Nvidia DIGITS. You can reach DIGITS' home page by selecting DIGITS in the top left corner of the screen. Next, select Datasets. You can see that there is a dataset already loaded called \"Beagle Images.\" Since we're going to use the same data, go ahead and select that dataset and \"Clone\" it by selecting the blue \"Clone Dataset\" button.\n",
    "\n",
    "We're only going to change one setting. Next to \"Validation set\", select 25%. This will remove 25% of each class for a seperate dataset which we'll call Validation. The remaining 75% will remain in a \"training\" dataset.\n",
    "\n"
   ]
  },
  {
   "cell_type": "markdown",
   "metadata": {},
   "source": [
    "## Training vs. Validation\n",
    "\n",
    "Your *validation* set will not be used to train your network. Essentially, each time your network sees an image from your *validation set*, it is as if it is seeing the data for the first time. The benefit to this is that it can constistantly play the role of *new data*. We'll see how we use that once we train our model, which we'll do now. \n",
    "\n",
    "Go back to DIGITS' home screen by selecting the DIGITS button on the top left. We're going to train our model without changing much from last time. Select \"New Model\" and \"Classification\". \n",
    "\n",
    "Test yourself: Train Alexnet for 50 epochs with your new dataset."
   ]
  }
 ],
 "metadata": {
  "kernelspec": {
   "display_name": "Python 2",
   "language": "python",
   "name": "python2"
  },
  "language_info": {
   "codemirror_mode": {
    "name": "ipython",
    "version": 2
   },
   "file_extension": ".py",
   "mimetype": "text/x-python",
   "name": "python",
   "nbconvert_exporter": "python",
   "pygments_lexer": "ipython2",
   "version": "2.7.6"
  }
 },
 "nbformat": 4,
 "nbformat_minor": 2
}
