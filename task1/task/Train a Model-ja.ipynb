{
 "cells": [
  {
   "cell_type": "markdown",
   "metadata": {},
   "source": [
    "<a href=\"https://www.nvidia.com/en-us/deep-learning-ai/education/\"> <img src=\"images/DLI Header.png\" alt=\"Header\" style=\"width: 400px;\"/> </a>"
   ]
  },
  {
   "cell_type": "markdown",
   "metadata": {
    "raw_mimetype": "text/markdown"
   },
   "source": [
    "# ネットワークにデータを与える"
   ]
  },
  {
   "cell_type": "markdown",
   "metadata": {},
   "source": [
    "手順は、この Notebook の中で順に示されます。\n",
    "実際のワークスペースは DIGITS 上にあり、2 つのタブを使用して作業を行います。\n",
    "以下をクリックして、DIGITS を別のタブで開きます。\n",
    "\n",
    "### <a href=\"/digits/\">DIGITS を開く</a>\n",
    "\n",
    "DIGITS でユーザー名を求められたら、任意のユーザー名を小文字で入力します。\n",
    "\n",
    "DIGITS のホーム画面を確認したら、最初のモデルを作成します。\n",
    "そのために、\"New Model\"の下にある \"Images\" から \"Classification\" を以下のように選択します。\n",
    "\n",
    "![](images/NewClassificationModel.png) \n",
    "\n",
    "これは学習セッションを設定するための場所になります。\n",
    "たくさんの選択可能なオプションが存在しますが、まずは簡単に、データセットの選択、学習回数の指定、そしてニューラルネットワークの選択、から始めます。\n",
    "\n",
    "### データセット\n",
    "\n",
    "ニューラルネットワークに Louie と他の犬の違いを教えるためには、ネットワーク学習用の画像が必要です。\n",
    "ラベル付きの 8 枚の Louie の画像とラベル付きの 8 枚の他の犬の画像が、「Images of Beagles」という名前のデータセットにあらかじめ読み込まれています。\n",
    "以下のようにデータセットを選択します。"
   ]
  },
  {
   "cell_type": "markdown",
   "metadata": {},
   "source": [
    "![](images/selectdatasetbeagle.PNG)"
   ]
  },
  {
   "cell_type": "markdown",
   "metadata": {},
   "source": [
    "### 学習回数\n",
    "\n",
    "次に、DIGITS で画像を学習させる回数を指定します。\n",
    "一連のデータを与える回数を **エポック** と呼びます。\n",
    "\"Training epochs\" の値を 30 から 2 に変更します。\n",
    "(2 エポックは、次のセクションで必要となる項目を表示するために必要な最小学習回数です。)\n",
    "\n",
    "![](images/2epochs.png)"
   ]
  },
  {
   "cell_type": "markdown",
   "metadata": {},
   "source": [
    "この他にも変更できるオプションが多数あります。\n",
    "これらは **ハイパーパラメーター** と呼ばれ、ネットワークがどのように学習するかを変化させます。\n",
    "今は既定のままにしておきますが、それぞれのオプションについて、後ほど詳しく説明します。\n",
    "\n",
    "### ニューラルネットワーク\n",
    "\n",
    "学習対象の **ディープニューラルネットワーク** として、\"Standard Networks\" のリストから \"AlexNet\" を選択します。\n",
    "\n",
    "![](images/choosenetwork.PNG)\n",
    "\n",
    "ここで、AlexNet を選択したことで設定されたルールを確認します。\n",
    "AlexNet を選択すると、以下のルールを守る必要が生じます。\n",
    "\n",
    "#### Rule #1: AlexNet は 256X256 のカラー画像を利用する想定。"
   ]
  },
  {
   "cell_type": "markdown",
   "metadata": {},
   "source": [
    "データセット「Images of Beagles」はこの要件を満たしています。\n",
    "これから **ネットワークの選択と設計** を実施する中で、このルールが AlexNet のどの要素によって決められているのかを見ていきます。\n",
    "\n",
    "ここでは、データセット「Images of Beagles」を使用した AlexNet の学習によって設定された他のルールを学びます。\n",
    "\n",
    "学習が終了すると、 **モデル** が生成されます。\n",
    "最後に、この **モデル** にわかりやすい名前を付けます。\n",
    "ここでは「Louie Classifier」という名前にしましょう。\n",
    "\n",
    "名前を入力したら、\"Create\" を選択して学習を開始します。\n",
    "\n",
    "![](images/createmodel.PNG)"
   ]
  },
  {
   "cell_type": "markdown",
   "metadata": {},
   "source": [
    "データセットの中から Louie を特定しようとしたときと同様に、モデルは各画像を一度だけ処理します。\n",
    "モデルは毎回、その画像に Louie が含まれているかどうかの推論結果を出力します。\n",
    "各画像に対する推論の後、正解を学習してモデルを調整し、再度推論を実行します。\n",
    "ここまでに学習された結果を確認してみましょう。\n",
    "\n",
    "*モデルのページ* をスクロールすると、(現時点で) 情報量の少ないグラフが 2 つあります。\n",
    "その下に「Trained Models」というタイトルのセクションがあります。\n",
    "\n",
    "ここでモデルを *テスト* します。\n",
    "\"Test a single image\" の下に、\"Image Path\" フィールドがあります。\n",
    "\n",
    "以下のパスをコピーして貼り付けます。\n",
    "<pre>/dli/data/BeagleImages/Louie/louie1.JPG</pre>\n",
    "\"Classify One\" を選択します。\n",
    "\n",
    "![](images/LouieTest1.PNG)"
   ]
  },
  {
   "cell_type": "markdown",
   "metadata": {},
   "source": [
    "推論結果は、チャンスレベルより明らかに良い結果とはなりません。\n",
    "\n",
    "![](images/Louie1pred.PNG)\n",
    "\n",
    "ただ、次のセクションでパフォーマンスを改善するので心配ありません。\n",
    "ここで重要なのは、ネットワークはまだ有用な情報を生成できていないものの、ルールを理解しているということです。"
   ]
  },
  {
   "cell_type": "markdown",
   "metadata": {},
   "source": [
    "もう 1 回やってみましょう。\n",
    "皆さんなら、もう数枚の画像を見れば、より正確に Louie を分類でき、各画像に Louie が含まれているかどうかを覚えられるかもしれませんが、このコースの目的は、皆さんにこの犬を覚えてもらうことではなく、ネットワークに教えることです。\n",
    "では、エポックを増やしてもう一度やってみましょう。\n",
    "\n",
    "今度は 100 で試してみます。\n",
    "左上隅の \"DIGITS\" を選択して DIGITS のホーム画面に戻ります。\n",
    "先ほど学習したモデル「Louie Classifier」を選択します。\n",
    "\n",
    "![](images/DIGITSHome.PNG)\n",
    "\n",
    "画面の右側にある \"Clone Job\" を選択し、学習時オプションに再びアクセスします。\n",
    "\"Training Epochs\" の数を 100 に変更します。\n",
    "\n",
    "![](images/100epochs.PNG)"
   ]
  },
  {
   "cell_type": "markdown",
   "metadata": {},
   "source": [
    "下までスクロールし、モデルに以下の新しい名前を付けます。\n",
    "<pre>Louie Classifier after 100 Epochs</pre>\n",
    "\"Create\" を選択します。\n",
    "\n",
    "![](images/Name100Epochs.PNG)\n",
    "\n",
    "注: *ジョブ* を *複製する* と、前回選択した他の設定はすべて保持されます。\n",
    "引き続き 16 枚の犬の画像を使用して AlexNet を学習します。\n",
    "今回は 2 回ではなく 100 回行います。"
   ]
  },
  {
   "cell_type": "markdown",
   "metadata": {},
   "source": [
    "学習時間は前回より少し長くなります (3、4 分)。\n",
    "学習中、生成される 2 つのグラフをよく見てください。\n",
    "これらのグラフでは、以下の 2 つの主要な概念がハイライトされます。\n",
    "後ほど、この 2 点について説明します。\n",
    "\n",
    "- **損失**\n",
    "- **学習率**\n",
    "\n",
    "モデルのトレーニングが終了したら、2 エポックで行ったときと同じ画像と方法でテストします。\n",
    "ページ下部の \"Trained Models\" にある \"Test a single image\" までスクロールします。\n",
    "\"Image Path\" フィールドに以下を貼り付けます。\n",
    "<pre>/dli/data/BeagleImages/Louie/louie1.JPG</pre>\n",
    "\"Classify One\" を選択します。\n",
    "\n",
    "![](images/TestLouie100.PNG)"
   ]
  },
  {
   "cell_type": "markdown",
   "metadata": {},
   "source": [
    "成功すれば、モデルは画像を 100% の信頼度で正しく分類できています。\n",
    "\n",
    "![](images/correctclass.PNG)\n",
    "\n",
    "これで作業は完了です。\n",
    "ニューラルネットワークにデータを与えて、モデルを学習できました。\n",
    "DIGITS のホームページに戻り (左上隅の \"DIGITS\" ロゴを選択)、いずれかのモデルを選択して、データセットから他の画像を試してみてください。\n",
    "\n",
    "完了したら、DIGITS のすべてのタブと、この Jupyter Notebook を閉じて、コースに戻りましょう。\n",
    "\n",
    "Louie の画像は以下のパスからテストできます。\n",
    "<pre>/dli/data/BeagleImages/Louie/louie1.JPG\n",
    "/dli/data/BeagleImages/Louie/louie1.JPG\n",
    "/dli/data/BeagleImages/Louie/louie2.JPG\n",
    "/dli/data/BeagleImages/Louie/louie3.JPG\n",
    "/dli/data/BeagleImages/Louie/louie4.JPG\n",
    "/dli/data/BeagleImages/Louie/louie5.JPG\n",
    "/dli/data/BeagleImages/Louie/louie6.JPG\n",
    "/dli/data/BeagleImages/Louie/louie7.JPG\n",
    "/dli/data/BeagleImages/Louie/louie8.JPG</pre>\n",
    "\n",
    "Louie 以外の画像は以下のパスからテストできます。\n",
    "<pre>/dli/data/BeagleImages/Not Louie/notlouie1.JPG\n",
    "/dli/data/BeagleImages/Not Louie/notlouie2.jpg\n",
    "/dli/data/BeagleImages/Not Louie/notlouie3.JPG\n",
    "/dli/data/BeagleImages/Not Louie/notlouie4.JPG\n",
    "/dli/data/BeagleImages/Not Louie/notlouie5.JPG\n",
    "/dli/data/BeagleImages/Not Louie/notlouie6.JPG\n",
    "/dli/data/BeagleImages/Not Louie/notlouie7.JPG\n",
    "/dli/data/BeagleImages/Not Louie/notlouie8.JPG</pre>"
   ]
  },
  {
   "cell_type": "markdown",
   "metadata": {},
   "source": [
    "<a href=\"https://www.nvidia.com/en-us/deep-learning-ai/education/\"> <img src=\"images/DLI Header.png\" alt=\"Header\" style=\"width: 400px;\"/> </a>"
   ]
  }
 ],
 "metadata": {
  "celltoolbar": "Raw Cell Format",
  "kernelspec": {
   "display_name": "Python 3",
   "language": "python",
   "name": "python3"
  },
  "language_info": {
   "codemirror_mode": {
    "name": "ipython",
    "version": 3
   },
   "file_extension": ".py",
   "mimetype": "text/x-python",
   "name": "python",
   "nbconvert_exporter": "python",
   "pygments_lexer": "ipython3",
   "version": "3.5.2"
  }
 },
 "nbformat": 4,
 "nbformat_minor": 1
}
