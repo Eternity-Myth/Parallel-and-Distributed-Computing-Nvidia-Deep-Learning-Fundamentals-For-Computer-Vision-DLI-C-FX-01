{
 "cells": [
  {
   "cell_type": "markdown",
   "metadata": {},
   "source": [
    "<a href=\"https://www.nvidia.com/en-us/deep-learning-ai/education/\"> <img src=\"images/DLI Header.png\" alt=\"标题\" style=\"width: 400px;\"/> </a>"
   ]
  },
  {
   "cell_type": "markdown",
   "metadata": {
    "raw_mimetype": "text/markdown"
   },
   "source": [
    "# 为网络输入数据"
   ]
  },
  {
   "cell_type": "markdown",
   "metadata": {},
   "source": [
    "您可以在此 Notebook 中记录相关说明，并在 DIGITS 中执行操作。您需要在这两个选项卡之间来回切换。在单独的选项卡中打开 DIGITS，位于此处：\n",
    "\n",
    "### <a href=\"/digits/models/images/classification/new\">打开 DIGITS</a>\n",
    "\n",
    "如果 DIGITS 在任何时候要求您提供用户名，则用户名应以小写字母形式输入。\n",
    "\n",
    "为教会神经网络理解 Louie 和其他狗之间的差异，我们需要图像以供网络学习。我们已向名为“比格犬图像”的数据集预加载 8 张 Louie 的已标记图像以及 8 张其他狗的已标记图像。\n",
    "\n",
    "选择该数据集，如下所示："
   ]
  },
  {
   "cell_type": "markdown",
   "metadata": {},
   "source": [
    "![](images/selectdatasetbeagle.PNG)"
   ]
  },
  {
   "cell_type": "markdown",
   "metadata": {},
   "source": [
    "接下来，我们将为 DIGITS 指定浏览图像的次数。对数据的一遍完整处理称为一个**训练次数**。将“训练次数”值从 30 改为 1，并以此开始。\n",
    "\n",
    "![](images/1Epoch.PNG)"
   ]
  },
  {
   "cell_type": "markdown",
   "metadata": {},
   "source": [
    "请注意，您还可以更改许多其他选项。我们称之为**超参数**，其可用于更改网络的训练方式。暂时先保留这些超参数的默认值，我们会在后续课程中对其进行深入探讨。\n",
    "\n",
    "从“Standard Networks”（标准网络）列表中选择“AlexNet”，以此选定要训练的**深度神经网络**。\n",
    "\n",
    "![](images/choosenetwork.PNG)\n",
    "\n",
    "我们稍后会探讨所选网络已设置的许多规则，但您在选择该网络后便会看到：\n",
    "\n",
    "#### 规则 #1：AlexNet 适于 256X256（彩色）图像。"
   ]
  },
  {
   "cell_type": "markdown",
   "metadata": {},
   "source": [
    "我们的“比格犬图像”数据集可满足这一要求。随着课程学习的深入，我们将通过试验**网络选择与设计**来探索 AlexNet 如何设置该规则。\n",
    "\n",
    "我们目前要做的是，使用“比格犬图像”数据集训练 AlexNet，以了解所设置的其他规则。\n",
    "\n",
    "训练完成后，我们将获得**模型**。最后一步是为此**模型**命名，以便可以找到。我们将其命名为“Louie 分类器”。\n",
    "\n",
    "命名后，选择“Create”（创建）即可开始训练。\n",
    "\n",
    "![](images/createmodel.PNG)"
   ]
  },
  {
   "cell_type": "markdown",
   "metadata": {},
   "source": [
    "正如您尝试在数据集中识别 Louie 时的操作一样，模型每次会查看一张图像。每次查看图像时，它都会生成有关该图像是否包含 Louie 的输出或预测。每次预测之后，它都会习得正确答案、调整模型并进行重试。现在我们来查看一下模型习得的内容。\n",
    "\n",
    "滚动*模型页面*时，您会看到两个图形（但没有提供太多信息）以及标题为“Trained Models”（已训练模型）的章节。\n",
    "\n",
    "您会在此处*测试*模型。在“Test a single image”（测试单张图像）下，您会看到名为“Image Path”（图像路径）的字段。\n",
    "\n",
    "复制并粘贴以下路径：\n",
    "<pre>/dli/data/BeagleImages/Louie/louie1.JPG</pre>\n",
    "然后选择“Classify One”（分类单张图像）。\n",
    "\n",
    "![](images/LouieTest1.PNG)"
   ]
  },
  {
   "cell_type": "markdown",
   "metadata": {},
   "source": [
    "之后，模型会生成预测，这比偶然事件准确不了多少：\n",
    "\n",
    "![](images/Louie1pred.PNG)\n",
    "\n",
    "但别担心，我们会在下一节改进性能。此时的重点在于让网络理解游戏规则，即使其尚未提供任何有用信息。"
   ]
  },
  {
   "cell_type": "markdown",
   "metadata": {},
   "source": [
    "让我们再试一次。如能多次查看数据，您可能便会认为自己可以更准确地为 Louie 作出分类，甚或记住每张图像是否包含 Louie。本课程的重点并非是让您识别这只狗而在于教会网络作出这一识别，因此我们要开展更多次训练。\n",
    "\n",
    "这次我们尝试进行 100 次训练。从左上角选择“DIGITS”，以返回 DIGITS 主屏幕。选择刚已训练的模型“Louie Classifier”（Louie 分类器）。\n",
    "\n",
    "![](images/DIGITSHome.PNG)\n",
    "\n",
    "在屏幕右侧选择“Clone Job”（克隆作业），即可再次访问您的训练选项。将“训练次数”值改为 100。\n",
    "\n",
    "![](images/100epochs.PNG)"
   ]
  },
  {
   "cell_type": "markdown",
   "metadata": {},
   "source": [
    "滚动至底部，并将模型重新命名为：\n",
    "<pre>训练 100 次后的 Louie 分类器</pre>\n",
    "然后开始“创建”。\n",
    "\n",
    "![](images/Name100Epochs.PNG)\n",
    "\n",
    "注意：由于我们是*克隆*的*作业*，因此我们上次选择的所有其他设置均保持不变。我们仍会使用 16 张比格犬图像训练 AlexNet，只不过这次会训练 100 次而非 1 次。"
   ]
  },
  {
   "cell_type": "markdown",
   "metadata": {},
   "source": [
    "这次的训练时间也会更久（3 到 4 分钟）。训练时，您需要检查生成的两个图表。这些图表突显了我们将在此任务结束后探究的两个关键概念：\n",
    "\n",
    "- **损失**\n",
    "- **学习率**\n",
    "\n",
    "模型训练完毕后，您需以训练 1 次后所采用的同样方式来测试相同的图像。滚动至页面底部的“Trained Models”（已训练模型）和“Test a single image”（测试单张图像）。在“Image Path”（图像路径）字段，粘贴：\n",
    "<pre>/dli/data/BeagleImages/Louie/louie1.JPG</pre>\n",
    "并选择“Classify One”（分类单张图像）。\n",
    "\n",
    "![](images/TestLouie100.PNG)"
   ]
  },
  {
   "cell_type": "markdown",
   "metadata": {},
   "source": [
    "如果一切正常，模型应会以 100% 的置信度正确分类该图像。\n",
    "\n",
    "![](images/correctclass.PNG)\n",
    "\n",
    "恭喜。您刚已为神经网络输入数据，完成了对神经网络模型的训练。通过返回 DIGITS 主页面（选择左上角的 DIGITS 徽标）并选择模型，您还可以尝试使用数据集中的其他图像。\n",
    "\n",
    "待取得满意的结果后，您便可关闭有关 DIGITS 及此 Jupyter Notebook 的所有选项卡，并返回课程。\n",
    "\n",
    "可从以下路径测试 Louie 的图像：\n",
    "<pre>/dli/data/BeagleImages/Louie/louie1.JPG\n",
    "/dli/data/BeagleImages/Louie/louie1.JPG\n",
    "/dli/data/BeagleImages/Louie/louie2.JPG\n",
    "/dli/data/BeagleImages/Louie/louie3.JPG\n",
    "/dli/data/BeagleImages/Louie/louie4.JPG\n",
    "/dli/data/BeagleImages/Louie/louie5.JPG\n",
    "/dli/data/BeagleImages/Louie/louie6.JPG\n",
    "/dli/data/BeagleImages/Louie/louie7.JPG\n",
    "/dli/data/BeagleImages/Louie/louie8.JPG</pre>\n",
    "\n",
    "可从以下路径测试非 Louie 的图像：\n",
    "<pre>/dli/data/BeagleImages/Not Louie/notlouie1.JPG\n",
    "/dli/data/BeagleImages/Not Louie/notlouie2.jpg\n",
    "/dli/data/BeagleImages/Not Louie/notlouie3.JPG\n",
    "/dli/data/BeagleImages/Not Louie/notlouie4.JPG\n",
    "/dli/data/BeagleImages/Not Louie/notlouie5.JPG\n",
    "/dli/data/BeagleImages/Not Louie/notlouie6.JPG\n",
    "/dli/data/BeagleImages/Not Louie/notlouie7.JPG\n",
    "/dli/data/BeagleImages/Not Louie/notlouie8.JPG</pre>\n",
    "\n"
   ]
  },
  {
   "cell_type": "markdown",
   "metadata": {},
   "source": [
    "<a href=\"https://www.nvidia.com/en-us/deep-learning-ai/education/\"> <img src=\"images/DLI Header.png\" alt=\"标题\" style=\"width: 400px;\"/> </a>"
   ]
  }
 ],
 "metadata": {
  "celltoolbar": "Raw Cell Format",
  "kernelspec": {
   "display_name": "Python 2",
   "language": "python",
   "name": "python2"
  },
  "language_info": {
   "codemirror_mode": {
    "name": "ipython",
    "version": 2
   },
   "file_extension": ".py",
   "mimetype": "text/x-python",
   "name": "python",
   "nbconvert_exporter": "python",
   "pygments_lexer": "ipython2",
   "version": "2.7.13"
  }
 },
 "nbformat": 4,
 "nbformat_minor": 1
}
