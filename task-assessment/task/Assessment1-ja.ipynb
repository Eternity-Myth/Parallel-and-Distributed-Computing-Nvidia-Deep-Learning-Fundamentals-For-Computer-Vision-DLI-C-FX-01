{
 "cells": [
  {
   "cell_type": "markdown",
   "metadata": {
    "colab_type": "text",
    "id": "g-atf3gekcgR"
   },
   "source": [
    "# 評価1: ニューラルネットワークの学習とデプロイ"
   ]
  },
  {
   "cell_type": "markdown",
   "metadata": {
    "colab_type": "text",
    "id": "_7wkT17FkmU6"
   },
   "source": [
    "これまでに、ディープラーニングのワークフロー全体を学んできました。\n",
    "データセットを読み込み、モデルの学習を行い、モデルをシンプルなアプリケーションの中へデプロイしました。\n",
    "新しい問題に対してワークフローの模倣を試みながら、学んだことを確かめてみましょう。\n",
    "\n",
    "私たちは、以下の 2 つのクラスから構成されるデータセットを含めています。\n",
    "\n",
    "1) 顔：クジラの顔が入っている画像を含みます。\n",
    "2) 顔なし：クジラの顔が入っていない画像を含みます。\n",
    "\n",
    "データセットは ```/dli/data/whale/data/train``` にあります。\n",
    "\n",
    "挑戦していただきたいことは以下のとおりです:\n",
    "\n",
    "1) [DIGITS](/digits) を使用し、モデルが 80% を超える精度で、*新しい* クジラの顔を識別するよう学習してください。\n",
    "\n",
    "2) Python アプリケーション [submission.py](../../../../edit/tasks/task-assessment/task/submission.py) を変更および保存して、モデルをデプロイし、画像にクジラの顔が入っているなら \"whale\" という文字列を返し、画像にクジラの顔が入っていないなら \"not whale\" という文字列を返してください。\n",
    "\n",
    "資料:\n",
    "\n",
    "1) [Train a model](../../task1/task/Train%20a%20Model-ja.ipynb)  \n",
    "2) [New Data as a goal](../../task2/task/New%20Data%20as%20a%20Goal-ja.ipynb)  \n",
    "3) [Deployment](../../task3/task/Deployment-ja.ipynb)  \n",
    "\n",
    "提案事項: \n",
    "\n",
    "- 空のコードブロックを利用して、この問題を解くために必要な情報を見つけ出してください。以下に例を示します。 ```!ls [directorypath] prints the files in a given directory```\n",
    "- 以下の最初の 2 つのセルを実行すると、テスト画像に対して Python スクリプトが起動します。一つ目が \"whale\" を返し、二つ目が \"not whale\" を返すはずです。"
   ]
  },
  {
   "cell_type": "markdown",
   "metadata": {
    "colab_type": "text",
    "id": "YaaY1Vb3o3mC"
   },
   "source": [
    "[DIGITS](/digits/) で開始します。"
   ]
  },
  {
   "cell_type": "code",
   "execution_count": null,
   "metadata": {},
   "outputs": [],
   "source": [
    "!python submission.py '/dli/data/whale/data/train/face/w_1.jpg' #This should return \"whale\" at the very bottom"
   ]
  },
  {
   "cell_type": "code",
   "execution_count": null,
   "metadata": {},
   "outputs": [],
   "source": [
    "!python submission.py '/dli/data/whale/data/train/not_face/w_1.jpg' #This should return \"not whale\" at the very bottom"
   ]
  },
  {
   "cell_type": "code",
   "execution_count": null,
   "metadata": {},
   "outputs": [],
   "source": []
  },
  {
   "cell_type": "code",
   "execution_count": null,
   "metadata": {},
   "outputs": [],
   "source": []
  },
  {
   "cell_type": "code",
   "execution_count": null,
   "metadata": {},
   "outputs": [],
   "source": []
  },
  {
   "cell_type": "code",
   "execution_count": null,
   "metadata": {},
   "outputs": [],
   "source": []
  },
  {
   "cell_type": "code",
   "execution_count": null,
   "metadata": {},
   "outputs": [],
   "source": []
  },
  {
   "cell_type": "code",
   "execution_count": null,
   "metadata": {},
   "outputs": [],
   "source": []
  }
 ],
 "metadata": {
  "colab": {
   "default_view": {},
   "name": "Assessment1.ipynb",
   "provenance": [],
   "version": "0.3.2",
   "views": {}
  },
  "kernelspec": {
   "display_name": "Python 2",
   "language": "python",
   "name": "python2"
  },
  "language_info": {
   "codemirror_mode": {
    "name": "ipython",
    "version": 2
   },
   "file_extension": ".py",
   "mimetype": "text/x-python",
   "name": "python",
   "nbconvert_exporter": "python",
   "pygments_lexer": "ipython2",
   "version": "2.7.15"
  }
 },
 "nbformat": 4,
 "nbformat_minor": 1
}
