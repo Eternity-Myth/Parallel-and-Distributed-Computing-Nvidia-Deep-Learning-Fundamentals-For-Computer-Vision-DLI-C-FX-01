{
 "cells": [
  {
   "cell_type": "markdown",
   "metadata": {
    "colab_type": "text",
    "id": "g-atf3gekcgR"
   },
   "source": [
    "# 评估 1：我可以训练并部署神经网络"
   ]
  },
  {
   "cell_type": "markdown",
   "metadata": {
    "colab_type": "text",
    "id": "_7wkT17FkmU6"
   },
   "source": [
    "此时，您已学习完深度学习的全部工作流程。您已经完成数据集加载、模型训练，以及将模型部署到简单的应用程序中。接下来，您可尝试重复该工作流程来解决新问题，以此验证学习效果。\n",
    "\n",
    "我们提供了由以下两类图像组成的数据集：\n",
    "\n",
    "1) 面部：包括含有鲸鱼面部的图像\n",
    "2) 非面部：包括不含有鲸鱼面部的图像。\n",
    "\n",
    "数据集位于 ```/dli/data/whale/data/train```。\n",
    "\n",
    "您要完成的挑战是：\n",
    "\n",
    "1) 使用 [DIGITS](/digits) 训练模型，以识别*新的*鲸鱼面部图像，准确度需超过 80%。\n",
    "\n",
    "2) 通过修改和保存 python 应用程序 [submission.py](../../../../edit/tasks/task-assessment/task/submission.py) 来部署模型，使之在图像包含鲸鱼面部时返回词“whale”（鲸），否则便返回“not whale”（非鲸）。\n",
    "\n",
    "资源：\n",
    "\n",
    "1) [训练模型](../../task1/task/Train%20a%20Model.ipynb)  \n",
    "2) [目标数据](../../task2/task/New%20Data%20as%20a%20Goal.ipynb)  \n",
    "3) [部署](../../task3/task/Deployment.ipynb)  \n",
    "\n",
    "建议： \n",
    "\n",
    "- 使用空代码块查找所有必要信息，以解决此问题，例如：```!ls [directorypath] prints the files in a given directory```\n",
    "- 执行下方前两个单元将运行python脚本对测试图片进行预测, 且第一个单元应返回 “whale” （鲸），第二个单元应返回 “not whale” （非鲸）"
   ]
  },
  {
   "cell_type": "markdown",
   "metadata": {
    "colab_type": "text",
    "id": "YaaY1Vb3o3mC"
   },
   "source": [
    "在 [DIGITS](/digits/) 中启动。"
   ]
  },
  {
   "cell_type": "code",
   "execution_count": null,
   "metadata": {},
   "outputs": [],
   "source": [
    "!python submission.py '/dli/data/whale/data/train/face/w_1.jpg'  #This should return \"whale\" at the very bottom of the output"
   ]
  },
  {
   "cell_type": "code",
   "execution_count": null,
   "metadata": {},
   "outputs": [],
   "source": [
    "!python submission.py '/dli/data/whale/data/train/not_face/w_1.jpg'  #This should return \"not whale\" at the very bottom of the output"
   ]
  }
 ],
 "metadata": {
  "colab": {
   "default_view": {},
   "name": "Assessment1.ipynb",
   "provenance": [],
   "version": "0.3.2",
   "views": {}
  },
  "kernelspec": {
   "display_name": "Python 2",
   "language": "python",
   "name": "python2"
  },
  "language_info": {
   "codemirror_mode": {
    "name": "ipython",
    "version": 2
   },
   "file_extension": ".py",
   "mimetype": "text/x-python",
   "name": "python",
   "nbconvert_exporter": "python",
   "pygments_lexer": "ipython2",
   "version": "2.7.12"
  }
 },
 "nbformat": 4,
 "nbformat_minor": 2
}
