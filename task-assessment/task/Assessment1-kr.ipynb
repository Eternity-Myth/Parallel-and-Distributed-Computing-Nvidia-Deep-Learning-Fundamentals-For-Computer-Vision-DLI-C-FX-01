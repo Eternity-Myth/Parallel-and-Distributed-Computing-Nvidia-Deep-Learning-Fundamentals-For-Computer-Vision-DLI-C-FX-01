{
 "cells": [
  {
   "cell_type": "markdown",
   "metadata": {
    "colab_type": "text",
    "id": "rzpViY9Na4SH"
   },
   "source": [
    "# 평가 1: 신경망을 학습시키고 적용하기\n",
    "\n",
    "이제 여러분은 딥러닝 작업 흐름에 대해 모두 살펴보았습니다. 데이터 세트를 불러들이고, 모델을 학습시키고, 여러분의 모델을 간단한 애플리케이션에 적용하였습니다. 이제 새로운 문제를 가지고 이상의 작업 흐름을 되풀이해 봄으로써 여러분이 학습한 내용을 점검해 보도록 하겠습니다.\n",
    "\n",
    "두 개의 클래스를 가지는 데이터 세트가 있습니다.\n",
    "\n",
    "1) whale: 고래의 얼굴을 포함하는 이미지들\n",
    "\n",
    "2)  not whale: 고래의 얼굴을 포함하지 않는 이미지들\n",
    "\n",
    "데이터 세트는 `/dli/data/whale/data/train`에 위치합니다.\n",
    "\n",
    "여러분의 과제:\n",
    "\n",
    "1) [DIGITS](/digits)를 사용하여 새로운 고래 얼굴을 80% 이상의 정확도로 인식할 수 있도록 모델을 학습시킵니다.\n",
    "\n",
    "2) 이미지가 고래 얼굴을 포함하면 \"whale\"을, 포함하지 않으면 \"not whale\"을 리턴하도록 파이썬 파일 [submission.py](../../../../edit/tasks/task-assessment/task/submission.py)를 수정 및 저장하여 모델을 적용합니다.\n",
    "\n",
    "리소스:\n",
    "\n",
    "1) [모델 학습시키기](../../task1/task/Train%20a%20Model.ipynb)\n",
    "\n",
    "2) [새로운 목표 데이터](../../task2/task/New%20Data%20as%20a%20Goal.ipynb)\n",
    "\n",
    "3) [배포](../../task3/task/Deployment.ipynb)\n",
    "\n",
    "\n",
    "힌트:\n",
    "* 문제를 푸는 데 필요한 정보를 찾기 위한 빈 코드블록을 사용하세요. 예:  ```!ls [directorypath] prints the files in a given directory``` \n",
    "* 아래의 처음 두 셀을 이용하여 테스트 이미지를 가지고 파이선 스크립트를 실행하세요. 처음 것은 \"whale\"이, 두 번째 것은 \"not whale\"이 출력되어야 합니다."
   ]
  },
  {
   "cell_type": "markdown",
   "metadata": {
    "colab_type": "text",
    "id": "A3wokGslUJ3l"
   },
   "source": [
    "\n",
    "\n",
    "[DIGITS](/digits)에서 시작하세요."
   ]
  },
  {
   "cell_type": "code",
   "execution_count": 0,
   "metadata": {
    "colab": {},
    "colab_type": "code",
    "id": "CiKfwwm5a4SK"
   },
   "outputs": [],
   "source": [
    "!python submission.py '/dli/data/whale/data/train/face/w_1.jpg' #This should return \"whale\" at the very bottom of the output."
   ]
  },
  {
   "cell_type": "code",
   "execution_count": 0,
   "metadata": {
    "colab": {},
    "colab_type": "code",
    "id": "4--y1J-5a4SQ"
   },
   "outputs": [],
   "source": [
    "!python submission.py '/dli/data/whale/data/train/not_face/w_1.jpg' #This should return \"not whale\" at the very bottom of the output."
   ]
  },
  {
   "cell_type": "code",
   "execution_count": 0,
   "metadata": {
    "colab": {},
    "colab_type": "code",
    "id": "wDD1F_rYa4ST"
   },
   "outputs": [],
   "source": []
  },
  {
   "cell_type": "code",
   "execution_count": 0,
   "metadata": {
    "colab": {},
    "colab_type": "code",
    "id": "rOF4Z04_a4SX"
   },
   "outputs": [],
   "source": []
  },
  {
   "cell_type": "code",
   "execution_count": 0,
   "metadata": {
    "colab": {},
    "colab_type": "code",
    "id": "LI0al_zAa4Sc"
   },
   "outputs": [],
   "source": []
  },
  {
   "cell_type": "code",
   "execution_count": 0,
   "metadata": {
    "colab": {},
    "colab_type": "code",
    "id": "_W9C0n0aa4Sh"
   },
   "outputs": [],
   "source": []
  },
  {
   "cell_type": "code",
   "execution_count": 0,
   "metadata": {
    "colab": {},
    "colab_type": "code",
    "id": "js8Li-mZa4Sn"
   },
   "outputs": [],
   "source": []
  },
  {
   "cell_type": "code",
   "execution_count": 0,
   "metadata": {
    "colab": {},
    "colab_type": "code",
    "id": "x47_V_Aia4Ss"
   },
   "outputs": [],
   "source": []
  }
 ],
 "metadata": {
  "colab": {
   "name": "Assessment1.ipynb",
   "provenance": [],
   "version": "0.3.2"
  },
  "kernelspec": {
   "display_name": "Python 2",
   "language": "python",
   "name": "python2"
  },
  "language_info": {
   "codemirror_mode": {
    "name": "ipython",
    "version": 2
   },
   "file_extension": ".py",
   "mimetype": "text/x-python",
   "name": "python",
   "nbconvert_exporter": "python",
   "pygments_lexer": "ipython2",
   "version": "2.7.15"
  }
 },
 "nbformat": 4,
 "nbformat_minor": 1
}
